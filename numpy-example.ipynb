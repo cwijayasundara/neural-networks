{
 "cells": [
  {
   "cell_type": "code",
   "execution_count": 9,
   "metadata": {
    "collapsed": false
   },
   "outputs": [
    {
     "name": "stdout",
     "output_type": "stream",
     "text": [
      "[0 1 2 3]\n",
      "[4 5 6 7]\n",
      "[[0 1 2 3]\n",
      " [4 5 6 7]]\n",
      "[[ 0.  0.  0.  0.]\n",
      " [ 0.  0.  0.  0.]]\n",
      "[[ 0.64604081  0.40688636  0.16397301  0.46849684  0.1868847 ]\n",
      " [ 0.19482759  0.12193496  0.64987193  0.08485883  0.35487768]]\n",
      "(1, 3)\n"
     ]
    }
   ],
   "source": [
    "import numpy as np\n",
    "a = np.array([0,1,2,3]) # a vector\n",
    "b = np.array([4,5,6,7]) # another vector\n",
    "c = np.array([[0,1,2,3],# a matrix\n",
    "              [4,5,6,7]])\n",
    "d = np.zeros((2,4))#(2x4 matrix of zeros) \n",
    "e = np.random.rand(2,5) # random 2x5\n",
    "\n",
    "vec1 = np.zeros((1,4)) # vector of length 4\n",
    "vec2 = np.zeros((4,3)) # matrix with 4 rows & 3 columns\n",
    "resultVec = vec1.dot(vec2)\n",
    "\n",
    "# matrix with all numbers between 0 and 1\n",
    "print(a)\n",
    "print (b)\n",
    "print (c)\n",
    "print (d)\n",
    "print(e)\n",
    "print (resultVec.shape)"
   ]
  },
  {
   "cell_type": "code",
   "execution_count": null,
   "metadata": {
    "collapsed": true
   },
   "outputs": [],
   "source": [
    ""
   ]
  }
 ],
 "metadata": {
  "kernelspec": {
   "display_name": "Python 3",
   "language": "python",
   "name": "python3"
  },
  "language_info": {
   "codemirror_mode": {
    "name": "ipython",
    "version": 3.0
   },
   "file_extension": ".py",
   "mimetype": "text/x-python",
   "name": "python",
   "nbconvert_exporter": "python",
   "pygments_lexer": "ipython3",
   "version": "3.6.0"
  }
 },
 "nbformat": 4,
 "nbformat_minor": 0
}